{
 "cells": [
  {
   "cell_type": "markdown",
   "metadata": {},
   "source": [
    "Interpolasi"
   ]
  },
  {
   "cell_type": "code",
   "execution_count": 11,
   "metadata": {},
   "outputs": [
    {
     "name": "stdout",
     "output_type": "stream",
     "text": [
      "Interpolation complete for all CSV files.\n"
     ]
    }
   ],
   "source": [
    "import pandas as pd\n",
    "import numpy as np\n",
    "import os\n",
    "\n",
    "# Set your directory path where CSV files are stored\n",
    "directory_path = r'F:\\SKRIPSI\\TA\\Fix_code\\SkripSHYs\\testne'  # Replace with your directory path\n",
    "\n",
    "# Loop through all files in the directory\n",
    "for filename in os.listdir(directory_path):\n",
    "    # Check for CSV files\n",
    "    if filename.endswith('.csv'):\n",
    "        file_path = os.path.join(directory_path, filename)\n",
    "        \n",
    "        # Load the CSV file into a DataFrame\n",
    "        df = pd.read_csv(file_path)\n",
    "        \n",
    "        # Replace 0.0 with NaN for interpolation in 'Openness' and 'MAR' columns\n",
    "        df['EAR'] = df['EAR'].replace(0.0, np.nan)\n",
    "        df['MAR'] = df['MAR'].replace(0.0, np.nan)\n",
    "        \n",
    "        # Use linear interpolation to fill NaNs in both columns\n",
    "        df['EAR'].interpolate(method='linear', inplace=True)\n",
    "        df['MAR'].interpolate(method='linear', inplace=True)\n",
    "        \n",
    "        # After interpolation, if you need to round the values or process them in some way, do it here\n",
    "        \n",
    "        # Save the updated DataFrame back to its CSV file\n",
    "        df.to_csv(file_path, index=False)  # Save the file with interpolated data\n",
    "\n",
    "print(\"Interpolation complete for all CSV files.\")"
   ]
  },
  {
   "cell_type": "markdown",
   "metadata": {},
   "source": [
    "Tambah Kolom Kelas"
   ]
  },
  {
   "cell_type": "code",
   "execution_count": 6,
   "metadata": {},
   "outputs": [
    {
     "name": "stdout",
     "output_type": "stream",
     "text": [
      "All CSV files have been updated.\n"
     ]
    }
   ],
   "source": [
    "import pandas as pd\n",
    "import os\n",
    "\n",
    "# Specify the directory containing the CSV files\n",
    "directory_path = r'Dataset\\Interpolate\\3'  # Replace with your actual directory path\n",
    "\n",
    "# Loop through all files in the specified directory\n",
    "for filename in os.listdir(directory_path):\n",
    "    # Check if the file is a CSV\n",
    "    if filename.endswith('.csv'):\n",
    "        # Construct full file path\n",
    "        file_path = os.path.join(directory_path, filename)\n",
    "        \n",
    "        # Load the CSV file into a DataFrame\n",
    "        df = pd.read_csv(file_path)\n",
    "        \n",
    "        # Add a new column 'Kelas' with all entries set to 1\n",
    "        df['Kelas'] = 3\n",
    "        \n",
    "        # Save the updated DataFrame back to a CSV file, \n",
    "        # using the same filename to overwrite the original file\n",
    "        # Or, you can save to a new file by modifying 'filename' accordingly\n",
    "        df.to_csv(file_path, index=False)\n",
    "\n",
    "print(\"All CSV files have been updated.\")\n"
   ]
  },
  {
   "cell_type": "markdown",
   "metadata": {},
   "source": [
    "Satukan Semua Data"
   ]
  },
  {
   "cell_type": "code",
   "execution_count": 1,
   "metadata": {},
   "outputs": [
    {
     "name": "stdout",
     "output_type": "stream",
     "text": [
      "All CSV files have been combined into combined_data.csv.\n"
     ]
    }
   ],
   "source": [
    "import pandas as pd\n",
    "import os\n",
    "\n",
    "# Specify the directory containing the CSV files\n",
    "directory_path = r'Dataset/Interpolate/1'  # Replace with your actual directory path\n",
    "combined_csv_filename = 'Data_Train/combined_data.csv'  # Replace with your desired output file name\n",
    "\n",
    "# List to hold data from each CSV file\n",
    "dataframes_list = []\n",
    "\n",
    "# Loop through all files in the specified directory\n",
    "for filename in os.listdir(directory_path):\n",
    "    # Check if the file is a CSV\n",
    "    if filename.endswith('.csv'):\n",
    "        # Construct full file path\n",
    "        file_path = os.path.join(directory_path, filename)\n",
    "        \n",
    "        # Load the CSV file into a DataFrame\n",
    "        df = pd.read_csv(file_path)\n",
    "        \n",
    "        # Add the DataFrame to the list\n",
    "        dataframes_list.append(df)\n",
    "\n",
    "# Concatenate all DataFrames in the list\n",
    "combined_df = pd.concat(dataframes_list, ignore_index=True)\n",
    "\n",
    "# Save the combined DataFrame to a new CSV file\n",
    "combined_df.to_csv(combined_csv_filename, index=False)\n",
    "\n",
    "print(f\"All CSV files have been combined into {combined_csv_filename}.\")"
   ]
  },
  {
   "cell_type": "code",
   "execution_count": 14,
   "metadata": {},
   "outputs": [
    {
     "name": "stdout",
     "output_type": "stream",
     "text": [
      "CSV file has been sorted by 'ColumnToSortBy' and saved to DatasetsF.csv.\n"
     ]
    }
   ],
   "source": [
    "import pandas as pd\n",
    "\n",
    "# Replace with your CSV file path\n",
    "csv_file_path = 'Data_Train/combined_data.csv'\n",
    "sorted_1 = 'Data_Train/DatasetsF.csv'\n",
    "\n",
    "# Load the CSV file into a DataFrame\n",
    "df = pd.read_csv(csv_file_path)\n",
    "\n",
    "# Sort the DataFrame; replace 'ColumnToSortBy' with your column name\n",
    "# For ascending sort, use ascending=True; for descending, use ascending=False.\n",
    "# You can sort by multiple columns by passing a list of column names to 'by'\n",
    "df_sorted = df.sort_values(by='Kelas', ascending=True)\n",
    "\n",
    "# Save the sorted DataFrame back to a CSV file\n",
    "df_sorted.to_csv(sorted_1, index=False)\n",
    "\n",
    "print(f\"CSV file has been sorted by 'ColumnToSortBy' and saved to {sorted_1}.\")"
   ]
  },
  {
   "cell_type": "code",
   "execution_count": 10,
   "metadata": {},
   "outputs": [],
   "source": [
    "import pandas as pd\n",
    "\n",
    "# Load the CSV file into a DataFrame\n",
    "df = pd.read_csv('Data_Train/sorted_csv_file.csv')  # Replace with the path to your CSV file\n",
    "\n",
    "# Remove the 'Frame' column\n",
    "df.drop('Frame', axis=1, inplace=True)\n",
    "\n",
    "# Save the modified DataFrame back to a CSV file\n",
    "df.to_csv('Datasets.csv', index=False)  # Replace with the path where you want to save the new CSV\n"
   ]
  },
  {
   "cell_type": "markdown",
   "metadata": {},
   "source": [
    "Ulangi Interpolasi Untuk memastikan"
   ]
  },
  {
   "cell_type": "code",
   "execution_count": 11,
   "metadata": {},
   "outputs": [],
   "source": [
    "import pandas as pd\n",
    "import numpy as np\n",
    "\n",
    "# Replace with the path to your CSV file\n",
    "csv_file_path = 'Data_Train/Datasets.csv'\n",
    "\n",
    "# Load the data from the CSV file\n",
    "df = pd.read_csv(csv_file_path)\n",
    "\n",
    "# Define a function to check for NaN or 0 values and interpolate if found\n",
    "def interpolate_if_needed(column):\n",
    "    if column.isnull().any() or (column == 0).any():\n",
    "        return column.replace(0, np.nan).interpolate(method='linear')\n",
    "    return column\n",
    "\n",
    "# Apply the function to each column in the DataFrame\n",
    "df = df.apply(interpolate_if_needed)\n",
    "\n",
    "# Save the interpolated data back to a new CSV file\n",
    "df.to_csv('Data_Train/DatasetsF.csv', index=False)"
   ]
  },
  {
   "cell_type": "markdown",
   "metadata": {},
   "source": [
    "Balancing"
   ]
  },
  {
   "cell_type": "code",
   "execution_count": 3,
   "metadata": {},
   "outputs": [
    {
     "name": "stdout",
     "output_type": "stream",
     "text": [
      "3    100066\n",
      "2    100066\n",
      "1    100066\n",
      "Name: Kelas, dtype: int64\n"
     ]
    }
   ],
   "source": [
    "import pandas as pd\n",
    "from sklearn.model_selection import train_test_split\n",
    "from imblearn.over_sampling import SMOTE\n",
    "\n",
    "# Load your dataset\n",
    "data = pd.read_csv('Data_Train/DatasetsF.csv')  # Make sure to provide the correct path to your dataset\n",
    "\n",
    "# Assuming 'Kelas' is your target and the rest are features\n",
    "X = data.drop('Kelas', axis=1)\n",
    "y = data['Kelas']\n",
    "\n",
    "# Splitting the data into train and test sets\n",
    "X_train, X_test, y_train, y_test = train_test_split(X, y, test_size=0.3, random_state=42)\n",
    "\n",
    "# Apply SMOTE\n",
    "smote = SMOTE()\n",
    "X_train_smote, y_train_smote = smote.fit_resample(X_train, y_train)\n",
    "\n",
    "# Check the class distribution after SMOTE\n",
    "print(pd.Series(y_train_smote).value_counts())"
   ]
  }
 ],
 "metadata": {
  "kernelspec": {
   "display_name": "Asus",
   "language": "python",
   "name": "python3"
  },
  "language_info": {
   "codemirror_mode": {
    "name": "ipython",
    "version": 3
   },
   "file_extension": ".py",
   "mimetype": "text/x-python",
   "name": "python",
   "nbconvert_exporter": "python",
   "pygments_lexer": "ipython3",
   "version": "3.9.7"
  }
 },
 "nbformat": 4,
 "nbformat_minor": 2
}

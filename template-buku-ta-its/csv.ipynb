{
 "cells": [
  {
   "cell_type": "code",
   "execution_count": 6,
   "metadata": {},
   "outputs": [],
   "source": [
    "import pandas as pd\n",
    "\n",
    "# Load the original CSV file\n",
    "df = pd.read_csv(r'F:\\SKRIPSI\\TA\\Fix_code\\SkripSHYs\\Dataset\\regular\\1-1_data_analysis.csv')\n",
    "\n",
    "# Select the column you want to extract\n",
    "column_data = df['Frame']  # Replace 'ColumnName' with your actual column name\n",
    "\n",
    "# Save the column to a new CSV file\n",
    "column_data.to_csv('new.csv', index=False)  # Set index=False to avoid writing row indices to the new file"
   ]
  }
 ],
 "metadata": {
  "kernelspec": {
   "display_name": "base",
   "language": "python",
   "name": "python3"
  },
  "language_info": {
   "codemirror_mode": {
    "name": "ipython",
    "version": 3
   },
   "file_extension": ".py",
   "mimetype": "text/x-python",
   "name": "python",
   "nbconvert_exporter": "python",
   "pygments_lexer": "ipython3",
   "version": "3.9.7"
  }
 },
 "nbformat": 4,
 "nbformat_minor": 2
}
